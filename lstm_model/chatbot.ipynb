{
  "nbformat": 4,
  "nbformat_minor": 0,
  "metadata": {
    "colab": {
      "name": "chatbot.ipynb",
      "provenance": [],
      "collapsed_sections": []
    },
    "kernelspec": {
      "name": "python3",
      "display_name": "Python 3"
    }
  },
  "cells": [
    {
      "cell_type": "code",
      "metadata": {
        "id": "Ya-UGWwolwug",
        "outputId": "c4924cc1-8ba7-47b6-c31f-9e7e438e3984",
        "colab": {
          "base_uri": "https://localhost:8080/"
        }
      },
      "source": [
        "from google.colab import drive\n",
        "drive.mount('/content/drive')"
      ],
      "execution_count": null,
      "outputs": [
        {
          "output_type": "stream",
          "text": [
            "Mounted at /content/drive\n"
          ],
          "name": "stdout"
        }
      ]
    },
    {
      "cell_type": "code",
      "metadata": {
        "id": "iI4z_o6SqjmV"
      },
      "source": [
        "import numpy as np\n",
        "import tensorflow as tf\n",
        "import pickle\n",
        "from tensorflow.keras import layers , activations , models , preprocessing\n",
        "from keras.layers.wrappers import TimeDistributed\n",
        "from keras.layers import Activation, Dense\n",
        "import nltk\n",
        "from tensorflow.keras import preprocessing , utils\n",
        "import os\n",
        "import yaml\n",
        "from keras.preprocessing.text import Tokenizer\n",
        "import pickle"
      ],
      "execution_count": null,
      "outputs": []
    },
    {
      "cell_type": "code",
      "metadata": {
        "id": "3pYPDrxp2hrc",
        "outputId": "c2e5461e-da7e-41a3-ea49-27acb4a3a388",
        "colab": {
          "base_uri": "https://localhost:8080/"
        }
      },
      "source": [
        "from nltk.corpus import stopwords\n",
        "nltk.download('stopwords')\n",
        "nltk.download('punkt')\n",
        "from nltk.tokenize import word_tokenize"
      ],
      "execution_count": null,
      "outputs": [
        {
          "output_type": "stream",
          "text": [
            "[nltk_data] Downloading package stopwords to /root/nltk_data...\n",
            "[nltk_data]   Unzipping corpora/stopwords.zip.\n",
            "[nltk_data] Downloading package punkt to /root/nltk_data...\n",
            "[nltk_data]   Unzipping tokenizers/punkt.zip.\n"
          ],
          "name": "stdout"
        }
      ]
    },
    {
      "cell_type": "code",
      "metadata": {
        "id": "aGzFJa0zqomn",
        "outputId": "6afca5c1-e4aa-443e-d876-cfe2e1a8d391",
        "colab": {
          "base_uri": "https://localhost:8080/"
        }
      },
      "source": [
        "\n",
        "dir_path = '/content/drive/My Drive/Chatbot/data'\n",
        "files_list = os.listdir(dir_path + os.sep)\n",
        "\n",
        "questions =[]\n",
        "answers =[]\n",
        "\n",
        "for filepath in files_list:\n",
        "    stream = open( dir_path + os.sep + filepath , 'rb')\n",
        "    docs = yaml.safe_load(stream)\n",
        "    conversations = docs['conversations']\n",
        "    for con in conversations:\n",
        "        if len( con ) > 2 :\n",
        "            questions.append(con[0])\n",
        "            replies = con[ 1 : ]\n",
        "            ans = ''\n",
        "            for rep in replies:\n",
        "                ans += ' ' + rep\n",
        "            answers.append( ans )\n",
        "        elif len( con )> 1:\n",
        "            questions.append(con[0])\n",
        "            answers.append(con[1])\n",
        "print(len(answers))\n",
        "print(len(questions))\n",
        "answers_with_tags = list()\n",
        "for i in range(len(answers)):\n",
        "    if type( answers[i] ) == str:\n",
        "        answers_with_tags.append( answers[i] )\n",
        "    else:\n",
        "        questions.pop(i)\n",
        "\n",
        "answers = list()\n",
        "for i in range( len( answers_with_tags ) ) :\n",
        "    answers.append( '<START> ' + answers_with_tags[i] + ' <END>' )\n",
        "\n",
        "tokenizer = preprocessing.text.Tokenizer()\n",
        "tokenizer.fit_on_texts( questions + answers )\n",
        "VOCAB_SIZE = len( tokenizer.word_index )+1\n",
        "print( 'VOCAB SIZE : {}'.format( VOCAB_SIZE ))"
      ],
      "execution_count": null,
      "outputs": [
        {
          "output_type": "stream",
          "text": [
            "620\n",
            "620\n",
            "VOCAB SIZE : 2326\n"
          ],
          "name": "stdout"
        }
      ]
    },
    {
      "cell_type": "code",
      "metadata": {
        "id": "kLeVM_G63vV6"
      },
      "source": [
        "with open(\"/content/drive/My Drive/Chatbot/questions.txt\", \"wb\") as fp:\n",
        "  pickle.dump(questions, fp)"
      ],
      "execution_count": null,
      "outputs": []
    },
    {
      "cell_type": "code",
      "metadata": {
        "id": "ljyUYF084Dd2"
      },
      "source": [
        "with open(\"/content/drive/My Drive/Chatbot/ans.txt\", \"wb\") as fp:\n",
        "  pickle.dump(answers, fp)"
      ],
      "execution_count": null,
      "outputs": []
    },
    {
      "cell_type": "code",
      "metadata": {
        "id": "DB3IzyENVheo"
      },
      "source": [
        "tokenizer = preprocessing.text.Tokenizer()"
      ],
      "execution_count": null,
      "outputs": []
    },
    {
      "cell_type": "code",
      "metadata": {
        "id": "KeqcXqzq4U1d"
      },
      "source": [
        "questions=[]\n",
        "answers=[]"
      ],
      "execution_count": null,
      "outputs": []
    },
    {
      "cell_type": "code",
      "metadata": {
        "id": "BjRJhH2X2z62"
      },
      "source": [
        "with open(\"/content/drive/My Drive/Chatbot/questions.txt\", \"rb\") as fp:\n",
        "  questions=pickle.load(fp)"
      ],
      "execution_count": null,
      "outputs": []
    },
    {
      "cell_type": "code",
      "metadata": {
        "id": "eUTfLU824ZtE"
      },
      "source": [
        "with open(\"/content/drive/My Drive/Chatbot/ans.txt\", \"rb\") as fp:\n",
        "  answers=pickle.load(fp)"
      ],
      "execution_count": null,
      "outputs": []
    },
    {
      "cell_type": "code",
      "metadata": {
        "id": "k7PO9d8546Jt",
        "outputId": "8119b8cb-6cdd-4509-a2de-7534ce0c88ba",
        "colab": {
          "base_uri": "https://localhost:8080/"
        }
      },
      "source": [
        "tokenizer = preprocessing.text.Tokenizer()\n",
        "tokenizer.fit_on_texts( questions + answers )\n",
        "VOCAB_SIZE = len( tokenizer.word_index )+1\n",
        "print( 'VOCAB SIZE : {}'.format( VOCAB_SIZE ))"
      ],
      "execution_count": null,
      "outputs": [
        {
          "output_type": "stream",
          "text": [
            "VOCAB SIZE : 1920\n"
          ],
          "name": "stdout"
        }
      ]
    },
    {
      "cell_type": "code",
      "metadata": {
        "id": "9EDpfaLpqxzn",
        "outputId": "eb5ddf65-8f0a-4a81-a0fd-f6f93c4532ff",
        "colab": {
          "base_uri": "https://localhost:8080/"
        }
      },
      "source": [
        "\n",
        "from gensim.models import Word2Vec\n",
        "import re\n",
        "\n",
        "vocab = []\n",
        "for word in tokenizer.word_index:\n",
        "    vocab.append( word )\n",
        "\n",
        "def tokenize( sentences ):\n",
        "    tokens_list = []\n",
        "    vocabulary = []\n",
        "    for sentence in sentences:\n",
        "        sentence = sentence.lower()\n",
        "        sentence = re.sub( '[^a-zA-Z]', ' ', sentence )\n",
        "        tokens = sentence.split()\n",
        "        vocabulary += tokens\n",
        "        tokens_list.append( tokens )\n",
        "    return tokens_list , vocabulary\n",
        "\n",
        "# encoder_input_data\n",
        "tokenized_questions = tokenizer.texts_to_sequences( questions )\n",
        "maxlen_questions = max( [ len(x) for x in tokenized_questions ] )\n",
        "padded_questions = preprocessing.sequence.pad_sequences( tokenized_questions , maxlen=maxlen_questions , padding='post' )\n",
        "encoder_input_data = np.array( padded_questions )\n",
        "print( encoder_input_data.shape , maxlen_questions )\n",
        "\n",
        "# decoder_input_data\n",
        "tokenized_answers = tokenizer.texts_to_sequences( answers )\n",
        "maxlen_answers = max( [ len(x) for x in tokenized_answers ] )\n",
        "padded_answers = preprocessing.sequence.pad_sequences( tokenized_answers , maxlen=maxlen_answers , padding='post' )\n",
        "decoder_input_data = np.array( padded_answers )\n",
        "print( decoder_input_data.shape , maxlen_answers )\n",
        "\n",
        "# decoder_output_data\n",
        "tokenized_answers = tokenizer.texts_to_sequences( answers )\n",
        "for i in range(len(tokenized_answers)) :\n",
        "    tokenized_answers[i] = tokenized_answers[i][1:]\n",
        "padded_answers = preprocessing.sequence.pad_sequences( tokenized_answers , maxlen=maxlen_answers , padding='post' )\n",
        "onehot_answers = utils.to_categorical( padded_answers , VOCAB_SIZE )\n",
        "decoder_output_data = np.array( onehot_answers )\n",
        "print( decoder_output_data.shape )\n"
      ],
      "execution_count": null,
      "outputs": [
        {
          "output_type": "stream",
          "text": [
            "(618, 22) 22\n",
            "(618, 74) 74\n",
            "(618, 74, 2326)\n"
          ],
          "name": "stdout"
        }
      ]
    },
    {
      "cell_type": "code",
      "metadata": {
        "id": "rx2lKKm-T3_g"
      },
      "source": [
        "maxlen_questions=22\n",
        "maxlen_answers=74"
      ],
      "execution_count": null,
      "outputs": []
    },
    {
      "cell_type": "code",
      "metadata": {
        "id": "ptEdj0wQq7b-"
      },
      "source": [
        "\n",
        "encoder_inputs = tf.keras.layers.Input(shape=( maxlen_questions , ))\n",
        "encoder_embedding = tf.keras.layers.Embedding( VOCAB_SIZE, 200 , mask_zero=True ) (encoder_inputs)\n",
        "encoder_outputs , state_h , state_c = tf.keras.layers.LSTM( 200 , return_state=True )( encoder_embedding )\n",
        "encoder_states = [ state_h , state_c ]\n",
        "\n",
        "decoder_inputs = tf.keras.layers.Input(shape=( maxlen_answers ,  ))\n",
        "decoder_embedding = tf.keras.layers.Embedding( VOCAB_SIZE, 200 , mask_zero=True) (decoder_inputs)\n",
        "decoder_lstm = tf.keras.layers.LSTM( 200 , return_state=True , return_sequences=True )\n",
        "\n",
        "from keras.layers import Activation, dot, concatenate\n",
        "attention = dot([decoder_embedding, encoder_embedding], axes=[2, 2])\n",
        "attention = Activation('softmax')(attention)\n",
        "context = dot([attention, encoder_embedding], axes=[2,1])\n",
        "decoder_combined_context = concatenate([context, decoder_embedding])\n",
        "outputs = TimeDistributed(Dense(64, activation=\"relu\"))(decoder_combined_context)\n",
        "outputs = TimeDistributed(Dense(VOCAB_SIZE, activation=\"softmax\"))(outputs)\n",
        "\n",
        "\n",
        "decoder_outputs , _ , _ = decoder_lstm ( decoder_embedding , initial_state=encoder_states )\n",
        "decoder_dense = tf.keras.layers.Dense( VOCAB_SIZE , activation=tf.keras.activations.softmax ) \n",
        "output = decoder_dense ( decoder_outputs )\n",
        "\n",
        "model = tf.keras.models.Model([encoder_inputs, decoder_inputs], output )\n",
        "model.compile(optimizer=tf.keras.optimizers.RMSprop(), loss='categorical_crossentropy',metrics='accuracy')\n",
        "\n",
        "model.summary()\n"
      ],
      "execution_count": null,
      "outputs": []
    },
    {
      "cell_type": "code",
      "metadata": {
        "id": "-ZQWwbM2q9PI"
      },
      "source": [
        "model.fit([encoder_input_data , decoder_input_data], decoder_output_data, batch_size=50, epochs=150 ) "
      ],
      "execution_count": null,
      "outputs": []
    },
    {
      "cell_type": "code",
      "metadata": {
        "id": "H5eueZJ4rCeY"
      },
      "source": [
        "def make_inference_models():\n",
        "    encoder_model = tf.keras.models.Model(encoder_inputs, encoder_states)\n",
        "    decoder_state_input_h = tf.keras.layers.Input(shape=( 200 ,))\n",
        "    decoder_state_input_c = tf.keras.layers.Input(shape=( 200 ,))\n",
        "    decoder_states_inputs = [decoder_state_input_h, decoder_state_input_c]\n",
        "    decoder_outputs, state_h, state_c = decoder_lstm(\n",
        "        decoder_embedding , initial_state=decoder_states_inputs)\n",
        "    decoder_states = [state_h, state_c]\n",
        "    decoder_outputs = decoder_dense(decoder_outputs)\n",
        "    decoder_model = tf.keras.models.Model(\n",
        "        [decoder_inputs] + decoder_states_inputs,\n",
        "        [decoder_outputs] + decoder_states)\n",
        "    \n",
        "    return encoder_model , decoder_model\n"
      ],
      "execution_count": null,
      "outputs": []
    },
    {
      "cell_type": "code",
      "metadata": {
        "id": "lrvb21HsrErs"
      },
      "source": [
        "import re\n",
        "def str_to_tokens( sentence : str ):\n",
        "    sentence=re.sub(r'[^\\w\\s]', '',sentence) \n",
        "    words = sentence.lower().split()\n",
        "    tokens_list = list()\n",
        "    for word in words:\n",
        "        tokens_list.append( tokenizer.word_index[ word ] ) \n",
        "    return preprocessing.sequence.pad_sequences( [tokens_list] , maxlen=maxlen_questions , padding='post')\n"
      ],
      "execution_count": null,
      "outputs": []
    },
    {
      "cell_type": "code",
      "metadata": {
        "id": "xHIT0pvbrG7_"
      },
      "source": [
        "enc_model , dec_model = make_inference_models()\n",
        "for _ in range(10):\n",
        "    states_values = enc_model.predict( str_to_tokens( input( 'Enter question : ' ) ))\n",
        "    empty_target_seq = np.zeros( ( 1 , 1 ) )\n",
        "    empty_target_seq[0, 0] = tokenizer.word_index['start']\n",
        "    stop_condition = False\n",
        "    decoded_translation = ''\n",
        "    link=''\n",
        "    while not stop_condition :\n",
        "        dec_outputs , h , c = dec_model.predict([ empty_target_seq ] + states_values )\n",
        "        sampled_word_index = np.argmax( dec_outputs[0, -1, :] )\n",
        "        sampled_word = None\n",
        "        for word , index in tokenizer.word_index.items() :\n",
        "            if sampled_word_index == index :\n",
        "                decoded_translation += ' {}'.format( word )\n",
        "                sampled_word = word\n",
        "        if sampled_word == 'end' or len(decoded_translation.split()) > maxlen_answers:\n",
        "            stop_condition = True\n",
        "        empty_target_seq = np.zeros((1,1))  \n",
        "        empty_target_seq[0,0] = sampled_word_index\n",
        "        states_values=[h,c] \n",
        "    if ('https' in decoded_translation):\n",
        "      decoded_translation=decoded_translation.split('https')\n",
        "      s1=decoded_translation[1].split(' ')\n",
        "      s1.remove('')\n",
        "      for i in range(len(s1)-2):\n",
        "         s1[i]=s1[i].replace(s1[i],s1[i]+'.')\n",
        "      s1.remove('end')\n",
        "      s2='https://'+('').join(s1)\n",
        "      print(decoded_translation[0]+s2+'.')\n",
        "    else:\n",
        "      print(decoded_translation[:-3]+'.' )\n"
      ],
      "execution_count": null,
      "outputs": []
    },
    {
      "cell_type": "code",
      "metadata": {
        "id": "6JxqikrfBvTG"
      },
      "source": [
        "with open(r'/content/drive/My Drive/Chatbot/encoder_model/encoder_model2.json', 'w', encoding='utf8') as f:\n",
        "    f.write(enc_model.to_json())\n",
        "enc_model.save_weights(r'/content/drive/My Drive/Chatbot/encoder_model/encoder_model_weights2.h5')\n",
        "\n",
        "with open('/content/drive/My Drive/Chatbot/decoder_model/decoder_model2.json', 'w', encoding='utf8') as f:\n",
        "    f.write(dec_model.to_json())\n",
        "dec_model.save_weights(r'/content/drive/My Drive/Chatbot/decoder_model/decoder_model_weights2.h5')"
      ],
      "execution_count": null,
      "outputs": []
    },
    {
      "cell_type": "code",
      "metadata": {
        "id": "WlPhq9h5JTrd"
      },
      "source": [
        "def load_model(model_filename, model_weights_filename):\n",
        "    with open(model_filename, 'r', encoding='utf8') as f:\n",
        "        model = tf.keras.models.model_from_json(f.read())\n",
        "    model.load_weights(model_weights_filename)\n",
        "    return model"
      ],
      "execution_count": null,
      "outputs": []
    },
    {
      "cell_type": "code",
      "metadata": {
        "id": "yR6npoHzJWB2"
      },
      "source": [
        "encoder = load_model(r'/content/drive/My Drive/Chatbot/encoder_model/encoder_model2.json', r'/content/drive/My Drive/Chatbot/encoder_model/encoder_model_weights2.h5')\n",
        "decoder = load_model(r'/content/drive/My Drive/Chatbot/decoder_model/decoder_model2.json', r'/content/drive/My Drive/Chatbot/decoder_model/decoder_model_weights2.h5')"
      ],
      "execution_count": null,
      "outputs": []
    },
    {
      "cell_type": "code",
      "metadata": {
        "id": "uiAQyTqcJkoF"
      },
      "source": [
        "enc_model = encoder\n",
        "dec_model=decoder\n",
        "for _ in range(10):\n",
        "    states_values = enc_model.predict( str_to_tokens( input( 'Enter question : ' ) ))\n",
        "    empty_target_seq = np.zeros( ( 1 , 1 ) )\n",
        "    empty_target_seq[0, 0] = tokenizer.word_index['start']\n",
        "    stop_condition = False\n",
        "    decoded_translation = ''\n",
        "    while not stop_condition :\n",
        "        dec_outputs , h , c = dec_model.predict([ empty_target_seq ] + states_values )\n",
        "        sampled_word_index = np.argmax( dec_outputs[0, -1, :] )\n",
        "        sampled_word = None\n",
        "        for word , index in tokenizer.word_index.items() :\n",
        "            if sampled_word_index == index :\n",
        "                decoded_translation += ' {}'.format( word )\n",
        "                sampled_word = word\n",
        "        \n",
        "        if sampled_word == 'end' or len(decoded_translation.split()) > maxlen_answers:\n",
        "            stop_condition = True\n",
        "\n",
        "        empty_target_seq = np.zeros( ( 1 , 1 ) )  \n",
        "        empty_target_seq[ 0 , 0 ] = sampled_word_index\n",
        "        states_values = [ h , c ]\n",
        "    if ('https' in decoded_translation):\n",
        "      decoded_translation=decoded_translation.split('https')\n",
        "      s1=decoded_translation[1].split(' ')\n",
        "      s1.remove('')\n",
        "      for i in range(len(s1)-2):\n",
        "         s1[i]=s1[i].replace(s1[i],s1[i]+'.')\n",
        "      s1.remove('end')\n",
        "      s2='https://'+('').join(s1)\n",
        "      print(decoded_translation[0]+s2+'.')\n",
        "    else:\n",
        "      print(decoded_translation[:-3]+'.' )"
      ],
      "execution_count": null,
      "outputs": []
    }
  ]
}